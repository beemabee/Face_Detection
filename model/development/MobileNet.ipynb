{
  "cells": [
    {
      "cell_type": "markdown",
      "metadata": {
        "id": "rcj7ts-VZtQN"
      },
      "source": [
        "## `Import Libraries`"
      ]
    },
    {
      "cell_type": "code",
      "execution_count": 1,
      "metadata": {
        "id": "YTsSK5vyZtQP"
      },
      "outputs": [],
      "source": [
        "# basic libraries\n",
        "import pandas as pd\n",
        "import numpy as np\n",
        "import matplotlib.pyplot as plt\n",
        "import seaborn as sns\n",
        "import cv2\n",
        "import os\n",
        "\n",
        "# model\n",
        "from tensorflow.keras.applications import MobileNetV2\n",
        "from tensorflow.keras.layers import Conv2D, MaxPooling2D, Flatten, Dense, GlobalAveragePooling2D\n",
        "from tensorflow.keras.models import Model, Sequential\n",
        "from tensorflow.keras.optimizers import Adam, SGD\n",
        "from tensorflow.keras.callbacks import EarlyStopping, ReduceLROnPlateau, ModelCheckpoint\n",
        "\n",
        "# metrics\n",
        "from sklearn.metrics import precision_recall_curve, average_precision_score\n",
        "from sklearn.metrics import confusion_matrix\n",
        "\n",
        "# other\n",
        "import warnings\n",
        "warnings.filterwarnings('ignore')\n",
        "from google.colab import drive"
      ]
    },
    {
      "cell_type": "markdown",
      "metadata": {
        "id": "StpEwh_OZtQT"
      },
      "source": [
        "## `Data Loading`"
      ]
    },
    {
      "cell_type": "code",
      "execution_count": 2,
      "metadata": {
        "id": "KgFqtw9_CWpF"
      },
      "outputs": [],
      "source": [
        "def load_image(image_path, target_size=(224, 224)):\n",
        "    image = cv2.imread(image_path)\n",
        "    if image is None:\n",
        "        print(f\"Warning: Unable to read image at {image_path}\")\n",
        "        return None\n",
        "    image = cv2.cvtColor(image, cv2.COLOR_BGR2RGB)\n",
        "    image = cv2.resize(image, target_size)\n",
        "    image = image.astype('float32') / 255.0\n",
        "    return image\n",
        "\n",
        "def preprocess_dataset(images, labels, target_size=(224, 224)):\n",
        "    preprocessed_images = images.astype('float32') / 255.0\n",
        "    normalized_labels = labels / np.array([target_size[1], target_size[0], target_size[1], target_size[0]])\n",
        "    return preprocessed_images, normalized_labels\n",
        "\n",
        "def load_dataset(image_dir, csv_path, target_size=(224, 224)):\n",
        "    df = pd.read_csv(csv_path)\n",
        "    images = []\n",
        "    labels = []\n",
        "    for index, row in df.iterrows():\n",
        "        img_path = os.path.join(image_dir, row['filename'])\n",
        "        image = load_image(img_path)\n",
        "        if image is not None:\n",
        "            # Resize gambar ke ukuran target\n",
        "            image = cv2.resize(image, target_size)\n",
        "            images.append(image)\n",
        "            labels.append([row['xmin'], row['ymin'], row['xmax'], row['ymax']])\n",
        "\n",
        "    images = np.array(images)\n",
        "    labels = np.array(labels, dtype=np.float32)\n",
        "    return preprocess_dataset(images, labels, target_size)\n"
      ]
    },
    {
      "cell_type": "code",
      "execution_count": 3,
      "metadata": {
        "colab": {
          "base_uri": "https://localhost:8080/"
        },
        "id": "AOfIqUy8CWpG",
        "outputId": "3a80ffff-a275-4e78-e6ed-db516cec0089"
      },
      "outputs": [
        {
          "name": "stdout",
          "output_type": "stream",
          "text": [
            "Drive already mounted at /content/drive; to attempt to forcibly remount, call drive.mount(\"/content/drive\", force_remount=True).\n"
          ]
        }
      ],
      "source": [
        "# mount Google Drive\n",
        "drive.mount('/content/drive')\n",
        "\n",
        "# Path ke folder images dan file CSV di Google Drive\n",
        "# Sesuaikan jalur ini dengan struktur folder Anda di Google Drive\n",
        "train_image_dir = '/content/drive/My Drive/data/train'\n",
        "train_csv_path = '/content/drive/My Drive/data/train/_annotations.csv'\n",
        "\n",
        "valid_image_dir = '/content/drive/My Drive/data/valid'\n",
        "valid_csv_path = '/content/drive/My Drive/data/valid/_annotations.csv'\n",
        "\n",
        "test_image_dir = '/content/drive/My Drive/data/test'\n",
        "test_csv_path = '/content/drive/My Drive/data/test/_annotations.csv'\n",
        "\n",
        "# Muat dataset\n",
        "X_train, y_train = load_dataset(train_image_dir, train_csv_path)\n",
        "X_val, y_val = load_dataset(valid_image_dir, valid_csv_path)\n",
        "X_test, y_test = load_dataset(test_image_dir, test_csv_path)"
      ]
    },
    {
      "cell_type": "markdown",
      "metadata": {
        "id": "YUy9B5E5ZtQU"
      },
      "source": [
        "## `Model Achitecture`"
      ]
    },
    {
      "cell_type": "code",
      "execution_count": 4,
      "metadata": {
        "colab": {
          "base_uri": "https://localhost:8080/"
        },
        "id": "h7vF7kHoZtQU",
        "outputId": "29d632a1-b122-482c-9520-3ced60707a94"
      },
      "outputs": [
        {
          "name": "stderr",
          "output_type": "stream",
          "text": [
            "WARNING:tensorflow:`input_shape` is undefined or non-square, or `rows` is not in [96, 128, 160, 192, 224]. Weights for input shape (224, 224) will be loaded as the default.\n"
          ]
        },
        {
          "name": "stdout",
          "output_type": "stream",
          "text": [
            "Model: \"sequential\"\n",
            "_________________________________________________________________\n",
            " Layer (type)                Output Shape              Param #   \n",
            "=================================================================\n",
            " mobilenetv2_1.00_224 (Func  (None, 10, 10, 1280)      2257984   \n",
            " tional)                                                         \n",
            "                                                                 \n",
            " global_average_pooling2d (  (None, 1280)              0         \n",
            " GlobalAveragePooling2D)                                         \n",
            "                                                                 \n",
            " dense (Dense)               (None, 128)               163968    \n",
            "                                                                 \n",
            " dense_1 (Dense)             (None, 4)                 516       \n",
            "                                                                 \n",
            "=================================================================\n",
            "Total params: 2422468 (9.24 MB)\n",
            "Trainable params: 164484 (642.52 KB)\n",
            "Non-trainable params: 2257984 (8.61 MB)\n",
            "_________________________________________________________________\n"
          ]
        }
      ],
      "source": [
        "# Load MobileNetV2 pre-trained model\n",
        "base_model = MobileNetV2(input_shape=(224, 224, 3), include_top=False, weights='imagenet')\n",
        "\n",
        "# Freeze the base model\n",
        "base_model.trainable = False\n",
        "\n",
        "# Add custom layers on top of the base model\n",
        "model = Sequential([\n",
        "    base_model,\n",
        "    GlobalAveragePooling2D(),\n",
        "    Dense(128, activation='relu'),\n",
        "    Dense(4, activation='linear')  # Output 4 koordinat bounding box\n",
        "])\n",
        "\n",
        "# Compile the model\n",
        "optimizer = Adam(learning_rate=0.001)\n",
        "model.compile(optimizer=optimizer, loss='mean_squared_error', metrics=['mae'])\n",
        "\n",
        "# Model summary\n",
        "model.summary()"
      ]
    },
    {
      "cell_type": "code",
      "execution_count": 5,
      "metadata": {
        "id": "N5yOYM3Dm9jK"
      },
      "outputs": [],
      "source": [
        "# Callbacks\n",
        "early_stopping = EarlyStopping(patience=5, restore_best_weights=True)\n",
        "reduce_lr = ReduceLROnPlateau(factor=0.2, patience=5, min_lr=0.00001)\n",
        "checkpoint_path = \"/content/drive/My Drive/Data\"\n",
        "model_checkpoint = ModelCheckpoint(checkpoint_path, monitor='val_mae', save_best_only=True,\n",
        "                                    save_weights_only=False, mode='min')"
      ]
    },
    {
      "cell_type": "markdown",
      "metadata": {
        "id": "rLYxEhQSZtQU"
      },
      "source": [
        "## `Train Model`"
      ]
    },
    {
      "cell_type": "code",
      "execution_count": 6,
      "metadata": {
        "colab": {
          "base_uri": "https://localhost:8080/"
        },
        "id": "h8gXidCSZtQV",
        "outputId": "0428b4b8-a388-4208-fba7-a44488c305d7"
      },
      "outputs": [
        {
          "name": "stdout",
          "output_type": "stream",
          "text": [
            "Epoch 1/100\n",
            "55/55 [==============================] - 21s 215ms/step - loss: 0.5692 - mae: 0.5886 - val_loss: 0.3510 - val_mae: 0.4562 - lr: 0.0010\n",
            "Epoch 2/100\n",
            "55/55 [==============================] - 6s 108ms/step - loss: 0.4033 - mae: 0.4976 - val_loss: 0.3625 - val_mae: 0.4774 - lr: 0.0010\n",
            "Epoch 3/100\n",
            "55/55 [==============================] - 6s 114ms/step - loss: 0.3840 - mae: 0.4859 - val_loss: 0.4278 - val_mae: 0.5405 - lr: 0.0010\n",
            "Epoch 4/100\n",
            "55/55 [==============================] - 7s 131ms/step - loss: 0.4058 - mae: 0.5045 - val_loss: 0.3801 - val_mae: 0.5004 - lr: 0.0010\n",
            "Epoch 5/100\n",
            "55/55 [==============================] - 7s 136ms/step - loss: 0.3869 - mae: 0.4866 - val_loss: 0.3610 - val_mae: 0.4744 - lr: 0.0010\n",
            "Epoch 6/100\n",
            "55/55 [==============================] - 7s 131ms/step - loss: 0.3977 - mae: 0.4924 - val_loss: 0.3564 - val_mae: 0.4690 - lr: 0.0010\n",
            "Epoch 7/100\n",
            "55/55 [==============================] - 8s 138ms/step - loss: 0.3681 - mae: 0.4724 - val_loss: 0.3610 - val_mae: 0.4768 - lr: 2.0000e-04\n",
            "Epoch 8/100\n",
            "55/55 [==============================] - 7s 121ms/step - loss: 0.3605 - mae: 0.4699 - val_loss: 0.3436 - val_mae: 0.4534 - lr: 2.0000e-04\n",
            "Epoch 9/100\n",
            "55/55 [==============================] - 7s 121ms/step - loss: 0.3614 - mae: 0.4706 - val_loss: 0.3512 - val_mae: 0.4619 - lr: 2.0000e-04\n",
            "Epoch 10/100\n",
            "55/55 [==============================] - 8s 153ms/step - loss: 0.3634 - mae: 0.4705 - val_loss: 0.3476 - val_mae: 0.4593 - lr: 2.0000e-04\n",
            "Epoch 11/100\n",
            "55/55 [==============================] - 8s 152ms/step - loss: 0.3612 - mae: 0.4701 - val_loss: 0.3538 - val_mae: 0.4709 - lr: 2.0000e-04\n",
            "Epoch 12/100\n",
            "55/55 [==============================] - 8s 150ms/step - loss: 0.3595 - mae: 0.4694 - val_loss: 0.3493 - val_mae: 0.4660 - lr: 2.0000e-04\n",
            "Epoch 13/100\n",
            "55/55 [==============================] - 7s 137ms/step - loss: 0.3626 - mae: 0.4717 - val_loss: 0.3549 - val_mae: 0.4660 - lr: 2.0000e-04\n",
            "Epoch 14/100\n",
            "55/55 [==============================] - 6s 113ms/step - loss: 0.3557 - mae: 0.4662 - val_loss: 0.3450 - val_mae: 0.4590 - lr: 4.0000e-05\n",
            "Epoch 15/100\n",
            "55/55 [==============================] - 7s 136ms/step - loss: 0.3539 - mae: 0.4644 - val_loss: 0.3503 - val_mae: 0.4681 - lr: 4.0000e-05\n",
            "Epoch 16/100\n",
            "55/55 [==============================] - 7s 132ms/step - loss: 0.3553 - mae: 0.4661 - val_loss: 0.3457 - val_mae: 0.4598 - lr: 4.0000e-05\n",
            "Epoch 17/100\n",
            "55/55 [==============================] - 6s 110ms/step - loss: 0.3546 - mae: 0.4652 - val_loss: 0.3508 - val_mae: 0.4593 - lr: 4.0000e-05\n",
            "Epoch 18/100\n",
            "55/55 [==============================] - 7s 134ms/step - loss: 0.3536 - mae: 0.4646 - val_loss: 0.3465 - val_mae: 0.4648 - lr: 4.0000e-05\n"
          ]
        }
      ],
      "source": [
        "# Train model\n",
        "%%time\n",
        "history = model.fit(\n",
        "    X_train, y_train,\n",
        "    epochs=20,\n",
        "    validation_data=(X_val, y_val),\n",
        "    callbacks=[early_stopping, reduce_lr, model_checkpoint]\n",
        ")\n",
        "\n",
        "# Load model terbaik setelah training\n",
        "model.load_weights(checkpoint_path)\n",
        "model.save('/content/drive/My Drive/data/base_MobileNet.keras')"
      ]
    },
    {
      "cell_type": "markdown",
      "metadata": {
        "id": "2B2gdiJjZtQV"
      },
      "source": [
        "## `Evaluasi Model`"
      ]
    },
    {
      "cell_type": "code",
      "execution_count": 7,
      "metadata": {
        "colab": {
          "base_uri": "https://localhost:8080/"
        },
        "id": "h6TpEwIYCWpI",
        "outputId": "715b60ed-eb1b-4c58-83c1-2390073b0f2c"
      },
      "outputs": [
        {
          "name": "stdout",
          "output_type": "stream",
          "text": [
            "17/17 [==============================] - 2s 79ms/step\n",
            "Mean IoU: 0.0481\n",
            "Precision: 0.0008\n",
            "Recall: 0.0008\n"
          ]
        }
      ],
      "source": [
        "def calculate_iou(box1, box2):\n",
        "    x1, y1, x2, y2 = box1\n",
        "    x1p, y1p, x2p, y2p = box2\n",
        "\n",
        "    xi1 = max(x1, x1p)\n",
        "    yi1 = max(y1, y1p)\n",
        "    xi2 = min(x2, x2p)\n",
        "    yi2 = min(y2, y2p)\n",
        "    inter_area = max(xi2 - xi1, 0) * max(yi2 - yi1, 0)\n",
        "\n",
        "    box1_area = (x2 - x1) * (y2 - y1)\n",
        "    box2_area = (x2p - x1p) * (y2p - y1p)\n",
        "    union_area = box1_area + box2_area - inter_area\n",
        "\n",
        "    iou = inter_area / union_area if union_area > 0 else 0\n",
        "    return iou\n",
        "\n",
        "def calculate_map(y_true, y_pred, iou_threshold=0.5):\n",
        "    precisions = []\n",
        "    recalls = []\n",
        "    for threshold in np.arange(0.5, 1.0, 0.05):\n",
        "        tp = 0\n",
        "        fp = 0\n",
        "        fn = 0\n",
        "        for i in range(len(y_true)):\n",
        "            iou = calculate_iou(y_true[i], y_pred[i])\n",
        "            if iou >= threshold:\n",
        "                tp += 1\n",
        "            else:\n",
        "                fp += 1\n",
        "                fn += 1\n",
        "        precision = tp / (tp + fp + 1e-10)\n",
        "        recall = tp / (tp + fn + 1e-10)\n",
        "        precisions.append(precision)\n",
        "        recalls.append(recall)\n",
        "    return np.mean(precisions), np.mean(recalls)\n",
        "\n",
        "# Prediksi menggunakan model\n",
        "y_pred = model.predict(X_val)\n",
        "\n",
        "# Hitung IoU\n",
        "ious = [calculate_iou(y_val[i], y_pred[i]) for i in range(len(y_val))]\n",
        "mean_iou = np.mean(ious)\n",
        "print(f\"Mean IoU: {mean_iou:.4f}\")\n",
        "\n",
        "# Hitung mAP\n",
        "precision, recall = calculate_map(y_val, y_pred)\n",
        "print(f\"Precision: {precision:.4f}\")\n",
        "print(f\"Recall: {recall:.4f}\")"
      ]
    },
    {
      "cell_type": "code",
      "execution_count": 8,
      "metadata": {
        "colab": {
          "base_uri": "https://localhost:8080/",
          "height": 564
        },
        "id": "yxRJdFEyZtQW",
        "outputId": "7a1ff6cf-9dc0-412b-c024-0b4e78fb6d95"
      },
      "outputs": [
        {
          "data": {
            "image/png": "[encoded data removed]",
            "text/plain": [
              "<Figure size 800x600 with 2 Axes>"
            ]
          },
          "metadata": {},
          "output_type": "display_data"
        }
      ],
      "source": [
        "# Plot Confusion Matrix\n",
        "y_true_classes = (y_val > 0.5).astype(int).flatten()\n",
        "y_pred_classes = (y_pred > 0.5).astype(int).flatten()\n",
        "cm = confusion_matrix(y_true_classes, y_pred_classes)\n",
        "plt.figure(figsize=(8, 6))\n",
        "sns.heatmap(cm, annot=True, fmt='d', cmap='Blues')\n",
        "plt.title('Confusion Matrix')\n",
        "plt.xlabel('Predicted')\n",
        "plt.ylabel('Actual')\n",
        "plt.show()"
      ]
    },
    {
      "cell_type": "code",
      "execution_count": 9,
      "metadata": {
        "colab": {
          "base_uri": "https://localhost:8080/",
          "height": 472
        },
        "id": "ENktn_r1sjVp",
        "outputId": "948377b7-f73a-4af4-85aa-e8ea49e2daed"
      },
      "outputs": [
        {
          "data": {
            "image/png": "[encoded data removed]",
            "text/plain": [
              "<Figure size 640x480 with 1 Axes>"
            ]
          },
          "metadata": {},
          "output_type": "display_data"
        }
      ],
      "source": [
        "# Plot Precision-Recall Curve\n",
        "precision, recall, _ = precision_recall_curve(y_true_classes, y_pred_classes)\n",
        "average_precision = average_precision_score(y_true_classes, y_pred_classes)\n",
        "\n",
        "plt.figure()\n",
        "plt.step(recall, precision, where='post')\n",
        "plt.fill_between(recall, precision, step='post', alpha=0.2, color='b')\n",
        "plt.xlabel('Recall')\n",
        "plt.ylabel('Precision')\n",
        "plt.title(f'Precision-Recall curve: AP={average_precision:.2f}')\n",
        "plt.show()"
      ]
    },
    {
      "cell_type": "markdown",
      "metadata": {
        "id": "UwGfDiwrnOSn"
      },
      "source": [
        "## `Hyperparameter Tuning`"
      ]
    },
    {
      "cell_type": "code",
      "execution_count": null,
      "metadata": {
        "colab": {
          "base_uri": "https://localhost:8080/"
        },
        "id": "B2UufqMWZtQW",
        "outputId": "3aef65b9-8095-4454-cd28-b148a87b9042"
      },
      "outputs": [
        {
          "name": "stderr",
          "output_type": "stream",
          "text": [
            "WARNING:tensorflow:`input_shape` is undefined or non-square, or `rows` is not in [96, 128, 160, 192, 224]. Weights for input shape (224, 224) will be loaded as the default.\n",
            "WARNING:tensorflow:`input_shape` is undefined or non-square, or `rows` is not in [96, 128, 160, 192, 224]. Weights for input shape (224, 224) will be loaded as the default.\n"
          ]
        }
      ],
      "source": [
        "%%time\n",
        "learning_rates = [0.01, 0.001]\n",
        "batch_sizes = [32, 64]\n",
        "optimizers = ['adam', 'sgd']\n",
        "\n",
        "best_accuracy = 0\n",
        "best_params = {}\n",
        "\n",
        "def create_model(learning_rate):\n",
        "    base_model = MobileNetV2(input_shape=(224, 224, 3), include_top=False, weights='imagenet')\n",
        "    base_model.trainable = False\n",
        "    model = Sequential([\n",
        "        base_model,\n",
        "        GlobalAveragePooling2D(),\n",
        "        Dense(128, activation='relu'),\n",
        "        Dense(4, activation='linear')\n",
        "    ])\n",
        "    return model\n",
        "\n",
        "for optimizer_name in optimizers:\n",
        "    for lr in learning_rates:\n",
        "        for bs in batch_sizes:\n",
        "            if optimizer_name == 'adam':\n",
        "                optimizer = Adam(learning_rate=lr)\n",
        "            elif optimizer_name == 'sgd':\n",
        "                optimizer = SGD(learning_rate=lr)\n",
        "\n",
        "            model = create_model(learning_rate=lr)\n",
        "            model.compile(optimizer=optimizer, loss='mean_squared_error', metrics=['mae'])\n",
        "\n",
        "            history = model.fit(\n",
        "                X_train, y_train,\n",
        "                epochs=20,\n",
        "                batch_size=bs,\n",
        "                validation_data=(X_val, y_val),\n",
        "                callbacks=[early_stopping, reduce_lr],\n",
        "                verbose=0\n",
        "            )\n",
        "\n",
        "            val_accuracy = history.history['val_mae'][-1]\n",
        "\n",
        "            if val_accuracy > best_accuracy:\n",
        "                best_accuracy = val_accuracy\n",
        "                best_params = {'optimizer': optimizer_name, 'learning_rate': lr, 'batch_size': bs}\n",
        "\n",
        "print(\"Best parameters:\", best_params)\n",
        "print(\"Best validation accuracy:\", best_accuracy)"
      ]
    },
    {
      "cell_type": "markdown",
      "metadata": {
        "id": "cNXgMG13ncog"
      },
      "source": [
        "## `Retrain with Best Parameter`"
      ]
    },
    {
      "cell_type": "code",
      "execution_count": null,
      "metadata": {
        "id": "myHcbV8wnYR_"
      },
      "outputs": [],
      "source": [
        "# Retrain model with best parameters\n",
        "if best_params['optimizer'] == 'adam':\n",
        "    optimizer = Adam(learning_rate=best_params['learning_rate'])\n",
        "elif best_params['optimizer'] == 'sgd':\n",
        "    optimizer = SGD(learning_rate=best_params['learning_rate'])\n",
        "\n",
        "final_model = create_model(learning_rate=best_params['learning_rate'])\n",
        "final_model.compile(optimizer=optimizer, loss='mean_squared_error', metrics=['mae'])\n",
        "\n",
        "final_history = final_model.fit(\n",
        "    X_train, y_train,\n",
        "    epochs=20,\n",
        "    validation_data=(X_val, y_val),\n",
        "    callbacks=[early_stopping, reduce_lr, model_checkpoint]\n",
        ")\n",
        "\n",
        "# Load model terbaik setelah training\n",
        "final_model.load_weights(checkpoint_path)\n",
        "final_model.save('/content/drive/My Drive/data/tuned_MobileNet.keras')\n"
      ]
    },
    {
      "cell_type": "markdown",
      "metadata": {
        "id": "Wwsbhvo6ngNK"
      },
      "source": [
        "## `Evaluate Final Model`"
      ]
    },
    {
      "cell_type": "code",
      "execution_count": null,
      "metadata": {
        "id": "L2P6LgD3ng92"
      },
      "outputs": [],
      "source": [
        "# Hitung IoU\n",
        "ious = [calculate_iou(y_val[i], y_pred[i]) for i in range(len(y_val))]\n",
        "mean_iou = np.mean(ious)\n",
        "print(f\"Mean IoU: {mean_iou:.4f}\")\n",
        "\n",
        "# Hitung mAP\n",
        "precision, recall = calculate_map(y_val, y_pred)\n",
        "print(f\"Precision: {precision:.4f}\")\n",
        "print(f\"Recall: {recall:.4f}\")"
      ]
    },
    {
      "cell_type": "code",
      "execution_count": null,
      "metadata": {
        "id": "6Ps9IW_WtO0T"
      },
      "outputs": [],
      "source": [
        "# Plot Confusion Matrix\n",
        "y_true_classes = (y_val > 0.5).astype(int).flatten()\n",
        "y_pred_classes = (y_pred > 0.5).astype(int).flatten()\n",
        "cm = confusion_matrix(y_true_classes, y_pred_classes)\n",
        "plt.figure(figsize=(8, 6))\n",
        "sns.heatmap(cm, annot=True, fmt='d', cmap='Blues')\n",
        "plt.title('Confusion Matrix')\n",
        "plt.xlabel('Predicted')\n",
        "plt.ylabel('Actual')\n",
        "plt.show()\n"
      ]
    },
    {
      "cell_type": "code",
      "execution_count": null,
      "metadata": {
        "id": "T4cNbQsqtQwg"
      },
      "outputs": [],
      "source": [
        "# Plot Precision-Recall Curve\n",
        "precision, recall, _ = precision_recall_curve(y_true_classes, y_pred_classes)\n",
        "average_precision = average_precision_score(y_true_classes, y_pred_classes)\n",
        "\n",
        "plt.figure()\n",
        "plt.step(recall, precision, where='post')\n",
        "plt.fill_between(recall, precision, step='post', alpha=0.2, color='b')\n",
        "plt.xlabel('Recall')\n",
        "plt.ylabel('Precision')\n",
        "plt.title(f'Precision-Recall curve: AP={average_precision:.2f}')\n",
        "plt.show()\n"
      ]
    }
  ],
  "metadata": {
    "accelerator": "TPU",
    "colab": {
      "gpuType": "V28",
      "provenance": [],
      "toc_visible": true
    },
    "kernelspec": {
      "display_name": "Python 3",
      "name": "python3"
    },
    "language_info": {
      "codemirror_mode": {
        "name": "ipython",
        "version": 3
      },
      "file_extension": ".py",
      "mimetype": "text/x-python",
      "name": "python",
      "nbconvert_exporter": "python",
      "pygments_lexer": "ipython3",
      "version": "3.12.4"
    }
  },
  "nbformat": 4,
  "nbformat_minor": 0
}
